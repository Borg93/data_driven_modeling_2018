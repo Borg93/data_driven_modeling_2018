{
 "cells": [
  {
   "cell_type": "markdown",
   "metadata": {},
   "source": [
    "# MACHINE LEARNING AND ENGINEERING APPLICATIONS\n",
    "<hr style=\"height:3px;border:none;color:stillblue;background-color:black;\" />\n",
    "### Technical PhD seminar series at Chair for Computer Aided Architectural Design (CAAD), ETH Zurich\n",
    "\n",
    "\n",
    "[Vahid Moosavi](https://vahidmoosavi.com/)\n",
    "<hr style=\"height:1px;border:none;color:stillblue;background-color:black;\" />"
   ]
  },
  {
   "cell_type": "markdown",
   "metadata": {},
   "source": [
    "<a></a>\n",
    "\n",
    "# 3rd Session \n",
    "## 1. Ensemble Models\n",
    "## 2. Data Driven Modeling in Practice: Real Estate Market \n",
    "<hr style=\"height:1px;border:none;color:stillblue;background-color:steelblue;\" />\n",
    "<span style=\"color:steelblue;font-size: 1em;\"> 06 March 2018</span>\n"
   ]
  },
  {
   "cell_type": "code",
   "execution_count": 73,
   "metadata": {},
   "outputs": [],
   "source": [
    "import warnings\n",
    "warnings.filterwarnings(\"ignore\")\n",
    "import pandas as pd\n",
    "import numpy as np\n",
    "from matplotlib import pyplot as plt\n",
    "pd.__version__\n",
    "import sys\n",
    "from scipy import stats\n",
    "%matplotlib inline\n",
    "import warnings\n",
    "warnings.filterwarnings(\"ignore\")\n",
    "import pandas as pd\n",
    "import numpy as np\n",
    "from matplotlib import pyplot as plt\n",
    "pd.__version__\n",
    "import sys\n",
    "from scipy import stats\n",
    "from ipywidgets import interact, HTML, FloatSlider\n",
    "%matplotlib inline\n",
    "\n",
    "\n",
    "\n",
    "import pysal.esda.mapclassify as mapclassify\n",
    "import pandas as pd\n",
    "import os\n",
    "from mapboxgl.utils import *\n",
    "from mapboxgl.viz import *\n",
    "import warnings\n",
    "warnings.filterwarnings(\"ignore\")\n",
    "import pandas as pd\n",
    "import numpy as np\n",
    "from matplotlib import pyplot as plt\n",
    "pd.__version__\n",
    "import sys\n",
    "from scipy import stats\n",
    "%matplotlib inline\n",
    "import warnings\n",
    "warnings.filterwarnings(\"ignore\")\n",
    "import pandas as pd\n",
    "import numpy as np\n",
    "from matplotlib import pyplot as plt\n",
    "pd.__version__\n",
    "import sys\n",
    "from scipy import stats\n",
    "from ipywidgets import interact, HTML, FloatSlider\n",
    "%matplotlib inline\n",
    "import ipywidgets as widgets\n",
    "from ipywidgets import Layout\n",
    "import ipywidgets as widgets\n",
    "# from IPython.display import display\n",
    "from IPython import display\n",
    "from ipywidgets import Layout\n",
    "import ipywidgets as widgets"
   ]
  },
  {
   "cell_type": "markdown",
   "metadata": {},
   "source": [
    "# Ensemble Models"
   ]
  },
  {
   "cell_type": "code",
   "execution_count": 6,
   "metadata": {},
   "outputs": [],
   "source": [
    "# Just for visulization of nn architecture\n",
    "#Taken from: https://gist.github.com/craffel/2d727968c3aaebd10359\n",
    "def draw_neural_net(ax, left, right, bottom, top, layer_sizes):\n",
    "    '''\n",
    "    Draw a neural network cartoon using matplotilb.\n",
    "    \n",
    "    :usage:\n",
    "        >>> fig = plt.figure(figsize=(12, 12))\n",
    "        >>> draw_neural_net(fig.gca(), .1, .9, .1, .9, [4, 7, 2])\n",
    "    \n",
    "    :parameters:\n",
    "        - ax : matplotlib.axes.AxesSubplot\n",
    "            The axes on which to plot the cartoon (get e.g. by plt.gca())\n",
    "        - left : float\n",
    "            The center of the leftmost node(s) will be placed here\n",
    "        - right : float\n",
    "            The center of the rightmost node(s) will be placed here\n",
    "        - bottom : float\n",
    "            The center of the bottommost node(s) will be placed here\n",
    "        - top : float\n",
    "            The center of the topmost node(s) will be placed here\n",
    "        - layer_sizes : list of int\n",
    "            List of layer sizes, including input and output dimensionality\n",
    "    '''\n",
    "    n_layers = len(layer_sizes)\n",
    "    v_spacing = (top - bottom)/float(max(layer_sizes))\n",
    "    print (v_spacing/4)\n",
    "    radius = np.min([v_spacing/4,.03])\n",
    "    h_spacing = (right - left)/float(len(layer_sizes) - 1)\n",
    "    # Nodes\n",
    "    for n, layer_size in enumerate(layer_sizes):\n",
    "        layer_top = v_spacing*(layer_size - 1)/2. + (top + bottom)/2.\n",
    "        for m in xrange(layer_size):\n",
    "            circle = plt.Circle((n*h_spacing + left, layer_top - m*v_spacing), radius,\n",
    "                                color='w', ec='k', zorder=4)\n",
    "            ax.add_artist(circle)\n",
    "        \n",
    "            if n==0:\n",
    "                if m<5:\n",
    "                    ax.text(n*h_spacing + .9*left, layer_top - m*v_spacing,'$x_{}$'.format(m) , fontsize=10,zorder=10)\n",
    "            elif n==(len(layer_sizes)-1):\n",
    "                if m<5:\n",
    "                    ax.text(n*h_spacing + .9*left, layer_top - m*v_spacing,'$y_{}$'.format(m) , fontsize=10,zorder=10)\n",
    "            else:\n",
    "                if m<5:\n",
    "                    ax.text(n*h_spacing + .9*left, layer_top - m*v_spacing,'$f_{}$'.format(m) , fontsize=10,zorder=10)\n",
    "    # Edges\n",
    "    for n, (layer_size_a, layer_size_b) in enumerate(zip(layer_sizes[:-1], layer_sizes[1:])):\n",
    "        layer_top_a = v_spacing*(layer_size_a - 1)/2. + (top + bottom)/2.\n",
    "        layer_top_b = v_spacing*(layer_size_b - 1)/2. + (top + bottom)/2.\n",
    "        for m in xrange(layer_size_a):\n",
    "            for o in xrange(layer_size_b):\n",
    "                line = plt.Line2D([n*h_spacing + left, (n + 1)*h_spacing + left],\n",
    "                                  [layer_top_a - m*v_spacing, layer_top_b - o*v_spacing], c='gray')\n",
    "                x = n*h_spacing + left\n",
    "                y = layer_top_a - m*v_spacing\n",
    "                dx = (n + 1)*h_spacing + left - x - 1.3*radius\n",
    "                dy = layer_top_b - o*v_spacing -y \n",
    "                line = plt.arrow(x,y,dx,dy, color='gray',head_width=.01,head_length=.01)\n",
    "                ax.add_artist(line)"
   ]
  },
  {
   "cell_type": "markdown",
   "metadata": {},
   "source": [
    "# Thinking about the computational graph from the last session\n",
    "## What happens if each node in the middle layer is a polynomial regressor:\n",
    "* **With the same input dimension**\n",
    "* **With similar degree**\n",
    "* **With the same training data**\n",
    "\n",
    "# If  this is the case, the nodes are all redundant!"
   ]
  },
  {
   "cell_type": "code",
   "execution_count": 37,
   "metadata": {},
   "outputs": [
    {
     "name": "stdout",
     "output_type": "stream",
     "text": [
      "0.02\n"
     ]
    },
    {
     "data": {
      "image/png": "[encoded data removed]",
      "text/plain": [
       "<matplotlib.figure.Figure at 0x1177059d0>"
      ]
     },
     "metadata": {},
     "output_type": "display_data"
    }
   ],
   "source": [
    "fig = plt.figure(figsize=(10, 10))\n",
    "draw_neural_net(fig.gca(), .1, .9, .1, .9, [10, 10,1],)"
   ]
  },
  {
   "cell_type": "code",
   "execution_count": 63,
   "metadata": {},
   "outputs": [],
   "source": [
    "from sklearn import linear_model\n",
    "N= 500\n",
    "x1 = np.random.rand(N) * 10 - 5\n",
    "x1 = np.sort(x1)\n",
    "x1 = x1[:,np.newaxis]\n",
    "noise = 0.1 \n",
    "def f(x):\n",
    "    x = x.ravel()\n",
    "    return np.exp(-x ** 2) + 1.5 * np.exp(-(x - 2) ** 2)\n",
    "\n",
    "y = f(x1) + np.random.normal(0.0, noise, N)\n",
    "y = y[:,np.newaxis]\n",
    "\n",
    "def polynomial_regr(degree=10,n_estimators=1):\n",
    "    from sklearn.preprocessing import PolynomialFeatures\n",
    "    from sklearn import linear_model\n",
    "    import random\n",
    "    dlen = x1.shape[0]\n",
    "    fig = plt.figure(figsize=(7,6))\n",
    "    Y_ = np.zeros(y.shape)\n",
    "    \n",
    "    for i in range(n_estimators):\n",
    "        \n",
    "        \n",
    "        X_tr = x1[:].astype(float)\n",
    "        y_tr = y[:].astype(float)\n",
    "        \n",
    "        \n",
    "        # They all the same degree\n",
    "        poly = PolynomialFeatures(degree=degree)\n",
    "        X_tr_ = poly.fit_transform(X_tr)\n",
    "        \n",
    "        \n",
    "        # And the same input and the same input dimensions\n",
    "        regr = linear_model.LinearRegression()\n",
    "        regr.fit(X_tr_, y_tr)\n",
    "        y_pred_tr = regr.predict(X_tr_)\n",
    "        \n",
    "        \n",
    "        \n",
    "    \n",
    "        Y_ = np.add(Y_ , y_pred_tr)\n",
    "        plt.plot(X_tr,y_pred_tr,'-b',markersize=.02,alpha=.1 );\n",
    "    Y_ = Y_/float(n_estimators)\n",
    "    print Y_.shape, y_pred_tr.shape\n",
    "    plt.plot(X_tr,Y_,'-g',markersize=9,alpha=1 );\n",
    "    plt.plot(X_tr,y_tr,'.r',markersize=2,alpha=1 );\n",
    "    plt.xlim(x1.min(),x1.max())\n",
    "    plt.ylim(y.min(),y.max())"
   ]
  },
  {
   "cell_type": "code",
   "execution_count": 64,
   "metadata": {},
   "outputs": [
    {
     "data": {
      "application/vnd.jupyter.widget-view+json": {
       "model_id": "b6947f7da45d44bea061eba594bf3562",
       "version_major": 2,
       "version_minor": 0
      },
      "text/html": [
       "<p>Failed to display Jupyter Widget of type <code>interactive</code>.</p>\n",
       "<p>\n",
       "  If you're reading this message in Jupyter Notebook or JupyterLab, it may mean\n",
       "  that the widgets JavaScript is still loading. If this message persists, it\n",
       "  likely means that the widgets JavaScript library is either not installed or\n",
       "  not enabled. See the <a href=\"https://ipywidgets.readthedocs.io/en/stable/user_install.html\">Jupyter\n",
       "  Widgets Documentation</a> for setup instructions.\n",
       "</p>\n",
       "<p>\n",
       "  If you're reading this message in another notebook frontend (for example, a static\n",
       "  rendering on GitHub or <a href=\"https://nbviewer.jupyter.org/\">NBViewer</a>),\n",
       "  it may mean that your frontend doesn't currently support widgets.\n",
       "</p>\n"
      ],
      "text/plain": [
       "interactive(children=(IntSlider(value=10, description=u'degree', max=10, min=1), IntSlider(value=1, description=u'n_estimators', max=150, min=1), Output()), _dom_classes=('widget-interact',))"
      ]
     },
     "metadata": {},
     "output_type": "display_data"
    }
   ],
   "source": [
    "from ipywidgets import interact, HTML, FloatSlider\n",
    "interact(polynomial_regr,degree=(1,10,1),n_estimators=(1,150,1));"
   ]
  },
  {
   "cell_type": "markdown",
   "metadata": {},
   "source": [
    "# Clearly all the regressors are the same!\n",
    "<hr style=\"height:3px;border:none;color:stillblue;background-color:steelblue;\" />\n"
   ]
  },
  {
   "cell_type": "markdown",
   "metadata": {},
   "source": [
    "<br>\n",
    "<br>\n",
    "# Ensembles\n",
    "\n",
    "<hr style=\"height:3px;border:none;color:stillblue;background-color:steelblue;\" />\n",
    "\n",
    "# What happens if train each of them with:\n",
    "* **Different randomly selected data sets**\n",
    "* **Different randomly selected input dimensions**\n",
    "* **Differetn randomly selected polynomial degrees**\n",
    "\n",
    "\n",
    "\n",
    "# How to think about randomization as a resource?\n",
    "\n",
    "* A very nice reference to this line of discussions: \"Statistical Modeling: The Two Cultures\" Leo Breiman, https://projecteuclid.org/euclid.ss/1009213726\n",
    "* **Classically in statistics we fight randomness!**\n",
    "\n",
    "\n",
    "## Two main data randomization strategies:\n",
    "* **Random Samples Without/With Replacement (Bootstraping: With replacement)**\n",
    "* **Random subsets of data points/features**\n",
    "* **This goes to \"Resampling\" theories https://en.wikipedia.org/wiki/Bootstrapping_(statistics)**\n",
    "\n",
    "\n",
    "\n",
    "<hr style=\"height:3px;border:none;color:stillblue;background-color:steelblue;\" />\n",
    "\n",
    "\n",
    "\n",
    "\n",
    "# This is called Bagging: Bootstrap aggregating"
   ]
  },
  {
   "cell_type": "markdown",
   "metadata": {},
   "source": [
    "# EXAMPL: Bagging of random polynomial regression models"
   ]
  },
  {
   "cell_type": "code",
   "execution_count": 65,
   "metadata": {},
   "outputs": [],
   "source": [
    "from sklearn import linear_model\n",
    "N= 500\n",
    "x1 = np.random.rand(N) * 10 - 5\n",
    "x1 = np.sort(x1)\n",
    "x1 = x1[:,np.newaxis]\n",
    "noise = 0.1 \n",
    "def f(x):\n",
    "    x = x.ravel()\n",
    "    return np.exp(-x ** 2) + 1.5 * np.exp(-(x - 2) ** 2)\n",
    "\n",
    "y = f(x1) + np.random.normal(0.0, noise, N)\n",
    "y = y[:,np.newaxis]\n",
    "\n",
    "def polynomial_regr(max_degree=10,n_estimators=1):\n",
    "    from sklearn.preprocessing import PolynomialFeatures\n",
    "    from sklearn import linear_model\n",
    "    import random\n",
    "    dlen = x1.shape[0]\n",
    "    fig = plt.figure(figsize=(7,6))\n",
    "    Y_ = np.zeros(y.shape)\n",
    "    \n",
    "    for i in range(n_estimators):\n",
    "        \n",
    "        \n",
    "        X_tr = x1[:].astype(float)\n",
    "        y_tr = y[:].astype(float)\n",
    "        \n",
    "        \n",
    "        # We choose a degree by random\n",
    "        degree = np.random.randint(2,10)\n",
    "        poly = PolynomialFeatures(degree=max_degree)\n",
    "        X_tr_ = poly.fit_transform(X_tr)\n",
    "        \n",
    "        \n",
    "        # We just choose 25% of the data by random for each regressor\n",
    "        ind = random.sample(range(dlen),int(dlen/4))\n",
    "        \n",
    "#         \n",
    "    \n",
    "        regr = linear_model.LinearRegression()\n",
    "        regr.fit(X_tr_[ind], y_tr[ind])\n",
    "        y_pred_tr = regr.predict(X_tr_)\n",
    "        \n",
    "        \n",
    "        \n",
    "    \n",
    "        Y_ = np.add(Y_ , y_pred_tr)\n",
    "        plt.plot(X_tr,y_pred_tr,'-b',markersize=.02,alpha=.1 );\n",
    "    Y_ = Y_/float(n_estimators)\n",
    "    print Y_.shape, y_pred_tr.shape\n",
    "    plt.plot(X_tr,Y_,'-g',markersize=9,alpha=1 );\n",
    "    plt.plot(X_tr,y_tr,'.r',markersize=2,alpha=1 );\n",
    "    plt.xlim(x1.min(),x1.max())\n",
    "    plt.ylim(y.min(),y.max())"
   ]
  },
  {
   "cell_type": "code",
   "execution_count": 66,
   "metadata": {},
   "outputs": [
    {
     "data": {
      "application/vnd.jupyter.widget-view+json": {
       "model_id": "d754706a7fee42db872df46b5a5328f1",
       "version_major": 2,
       "version_minor": 0
      },
      "text/html": [
       "<p>Failed to display Jupyter Widget of type <code>interactive</code>.</p>\n",
       "<p>\n",
       "  If you're reading this message in Jupyter Notebook or JupyterLab, it may mean\n",
       "  that the widgets JavaScript is still loading. If this message persists, it\n",
       "  likely means that the widgets JavaScript library is either not installed or\n",
       "  not enabled. See the <a href=\"https://ipywidgets.readthedocs.io/en/stable/user_install.html\">Jupyter\n",
       "  Widgets Documentation</a> for setup instructions.\n",
       "</p>\n",
       "<p>\n",
       "  If you're reading this message in another notebook frontend (for example, a static\n",
       "  rendering on GitHub or <a href=\"https://nbviewer.jupyter.org/\">NBViewer</a>),\n",
       "  it may mean that your frontend doesn't currently support widgets.\n",
       "</p>\n"
      ],
      "text/plain": [
       "interactive(children=(IntSlider(value=10, description=u'max_degree', max=10, min=1), IntSlider(value=1, description=u'n_estimators', max=150, min=1), Output()), _dom_classes=('widget-interact',))"
      ]
     },
     "metadata": {},
     "output_type": "display_data"
    }
   ],
   "source": [
    "from ipywidgets import interact, HTML, FloatSlider\n",
    "interact(polynomial_regr,max_degree=(1,10,1),n_estimators=(1,150,1));"
   ]
  },
  {
   "cell_type": "markdown",
   "metadata": {},
   "source": [
    "<hr style=\"height:2px;border:none;color:stillblue;background-color:steelblue;\" />\n",
    "\n",
    "## But for polynomials, Bagging doesn't help that much, as each of them try to have a global view.\n",
    "\n",
    "\n",
    "## In a way, polynomila regression is a very robust method and it does not overfit. \n",
    "\n",
    "# This is good and bad!\n",
    "<hr style=\"height:2px;border:none;color:stillblue;background-color:steelblue;\" />\n",
    "\n"
   ]
  },
  {
   "cell_type": "markdown",
   "metadata": {},
   "source": [
    "# Ensemble works with biased and weak learners only\n",
    "\n",
    "# What if we perform Bagging on a so called weak learners that overfit?\n",
    "\n",
    "# It might look contradictory?\n",
    "\n",
    "\n",
    "# Decision trees are known to overfit to their training data!\n",
    "\n",
    "<hr style=\"height:3px;border:none;color:stillblue;background-color:red;\" />\n"
   ]
  },
  {
   "cell_type": "markdown",
   "metadata": {},
   "source": [
    "### What are Decision trees?\n",
    "\n",
    "![](https://upload.wikimedia.org/wikipedia/commons/thumb/8/87/Recursive_Splitting.png/2560px-Recursive_Splitting.png)\n",
    "* **How to partition the space? Usually greedy algorithms**\n",
    "* ** More can be found here: https://en.wikipedia.org/wiki/Decision_tree_learning**\n",
    "\n",
    "* **A nice visual description of Decision tree learning: http://www.r2d3.us/visual-intro-to-machine-learning-part-1/**\n",
    "\n",
    "### Main Features of Decision Trees\n",
    "* **simple and understandable! (appealing for domain experts! not for ML people necessarily!)**\n",
    "* **But limited, with overfitting. This leads to low bias and high variance**\n"
   ]
  },
  {
   "cell_type": "markdown",
   "metadata": {},
   "source": [
    "# Tree Bagging example "
   ]
  },
  {
   "cell_type": "code",
   "execution_count": 67,
   "metadata": {},
   "outputs": [],
   "source": [
    "x1 = np.random.rand(N) * 10 - 5\n",
    "x1 = np.sort(x1)\n",
    "x1 = x1[:,np.newaxis]\n",
    "\n",
    "# print x1.shape\n",
    "noise = 0.1 \n",
    "def f(x):\n",
    "    x = x.ravel()\n",
    "    return np.exp(-x ** 2) + 1.5 * np.exp(-(x - 2) ** 2)\n",
    "\n",
    "y = f(x1) + np.random.normal(0.0, noise, N)\n",
    "y = y[:,np.newaxis]\n",
    "\n",
    "def Tree_Bagging_regr(n_estimators=1):\n",
    "    from sklearn.preprocessing import PolynomialFeatures\n",
    "    from sklearn.tree import DecisionTreeRegressor\n",
    "\n",
    "    from sklearn import linear_model\n",
    "    import random\n",
    "    fig = plt.figure(figsize=(7,6))\n",
    "    dlen = x1.shape[0]\n",
    "\n",
    "    Y_ = np.zeros(y.shape)\n",
    "    \n",
    "    for i in range(n_estimators):\n",
    "        \n",
    "        \n",
    "        X_tr = x1[:].astype(float)\n",
    "        y_tr = y[:].astype(float)\n",
    "        \n",
    "        \n",
    "        ind = random.sample(range(dlen),int(dlen/4))\n",
    "        \n",
    "\n",
    "        \n",
    "        regr = DecisionTreeRegressor()\n",
    "        regr.fit(X_tr[ind], y_tr[ind])\n",
    "        y_pred_tr = regr.predict(X_tr)[:,np.newaxis]\n",
    "        \n",
    "    \n",
    "        Y_ = np.add(Y_ , y_pred_tr)\n",
    "        plt.plot(X_tr,y_pred_tr,'-b',markersize=.02,alpha=.1 );\n",
    "    Y_ = Y_/float(n_estimators)\n",
    "#     print Y_.shape, y_pred_tr.shape\n",
    "    plt.plot(X_tr,Y_,'-g',markersize=8,alpha=1 );\n",
    "    plt.plot(X_tr,y_tr,'.r',markersize=2,alpha=1 );\n",
    "    plt.xlim(x1.min(),x1.max())\n",
    "    plt.ylim(y.min(),y.max())"
   ]
  },
  {
   "cell_type": "code",
   "execution_count": 68,
   "metadata": {},
   "outputs": [
    {
     "data": {
      "application/vnd.jupyter.widget-view+json": {
       "model_id": "03bca00065fa44e3a57e5fc0cc7ab31b",
       "version_major": 2,
       "version_minor": 0
      },
      "text/html": [
       "<p>Failed to display Jupyter Widget of type <code>interactive</code>.</p>\n",
       "<p>\n",
       "  If you're reading this message in Jupyter Notebook or JupyterLab, it may mean\n",
       "  that the widgets JavaScript is still loading. If this message persists, it\n",
       "  likely means that the widgets JavaScript library is either not installed or\n",
       "  not enabled. See the <a href=\"https://ipywidgets.readthedocs.io/en/stable/user_install.html\">Jupyter\n",
       "  Widgets Documentation</a> for setup instructions.\n",
       "</p>\n",
       "<p>\n",
       "  If you're reading this message in another notebook frontend (for example, a static\n",
       "  rendering on GitHub or <a href=\"https://nbviewer.jupyter.org/\">NBViewer</a>),\n",
       "  it may mean that your frontend doesn't currently support widgets.\n",
       "</p>\n"
      ],
      "text/plain": [
       "interactive(children=(IntSlider(value=1, description=u'n_estimators', max=20, min=1), Output()), _dom_classes=('widget-interact',))"
      ]
     },
     "metadata": {},
     "output_type": "display_data"
    }
   ],
   "source": [
    "from ipywidgets import interact, HTML, FloatSlider\n",
    "interact(Tree_Bagging_regr,n_estimators=(1,20,1));"
   ]
  },
  {
   "cell_type": "markdown",
   "metadata": {},
   "source": [
    "# Main known Bagging models (think about your data as a 2D matrix)\n",
    "* **Classical tree bagging (Data Bootstraping)**\n",
    "* **Random Forests (Data and Feature Bootstraping)**\n",
    "* **ExtraTrees (Data and Feature Bootstraping + random tree construction)**\n",
    "\n",
    "\n",
    "# Another strategy is to have dependent weak learners\n",
    "* **Boosting (Sequentially improving learners)** \n"
   ]
  },
  {
   "attachments": {},
   "cell_type": "markdown",
   "metadata": {},
   "source": [
    "<hr style=\"height:3px;border:none;color:stillblue;background-color:red;\" />\n",
    "# That is it!\n",
    "\n",
    "# Now you can develop a lot of interesting applications!\n",
    "\n",
    "# For the majority of function approximation/classification problems with Non-Homogeneous data sets, works very well.\n",
    "\n",
    "\n",
    "# Most of the winners of Kaggle competitions are using some sort of ensemble models\n",
    "# Sckit-Learn Repo has made it super easy to use\n",
    "* http://scikit-learn.org/stable/modules/classes.html#module-sklearn.ensemble\n",
    "\n",
    "<hr style=\"height:3px;border:none;color:stillblue;background-color:red;\" />"
   ]
  },
  {
   "cell_type": "markdown",
   "metadata": {},
   "source": [
    "# Data Driven Modeling in Practice: Real Estate Market in Switzerland\n",
    "\n",
    "![](images/RealEstate.png)\n",
    "\n",
    "\n",
    "<hr style=\"height:1px;border:none;color:stillblue;background-color:steelblue;\" />\n",
    "<hr style=\"height:1px;border:none;color:stillblue;background-color:steelblue;\" />"
   ]
  },
  {
   "cell_type": "markdown",
   "metadata": {},
   "source": [
    "<hr style=\"height:6px;border:none;color:stillblue;background-color:steelblue;\" />\n",
    "# My original question: Can we test machine learning for real estate property evaluation?\n",
    "\n",
    "# Main challenge: Where to get the relevant data from?\n",
    "<hr style=\"height:6px;border:none;color:stillblue;background-color:steelblue;\" />"
   ]
  },
  {
   "cell_type": "markdown",
   "metadata": {},
   "source": [
    "# Different data collection strategies:\n",
    "\n",
    "## 0-Easy if you have a simulator for your specific case (usually in engineering problems)\n",
    "\n",
    "## 1- Ready to use data sets, usually prepared by the governments or local agencies \n",
    "* **Such as census data: https://data2.nhgis.org/main**\n",
    "\n",
    "## 2- Open source data sets \n",
    "* **Usually a bit messy, but free to use (Such as Open Street Map: http://openpoimap.org/)**\n",
    "* **On top of OSM: Mapbox for interactive visualizations: https://www.mapbox.com/studio/**\n",
    "\n",
    "<center>[different styles](./styling_example.html)</center>\n",
    "<center>[3d real time maps](./mapboxgl3d.html)</center>\n",
    "<center>[3d real time maps with custom data](./3dToronto.html)</center>\n",
    "<center> [In the context of gaming, AR and VR](https://www.mapbox.com/unity/)</center>\n",
    "\n",
    "## 3 - APIs (Usually not free, but very easy to use!)\n",
    "* **Google APIs: https://console.developers.google.com/apis/library?project=places-195919** \n",
    "\n",
    "\n",
    "## 4-Web crawling \n",
    "* **Write little bots or spiders, who constantly look at a website you like!**\n",
    "* **My bots in Zurich!**\n"
   ]
  },
  {
   "cell_type": "markdown",
   "metadata": {},
   "source": [
    "# So waht we did was to write our own crawlers!\n",
    "### (live)\n",
    "* https://www.homegate.ch/en"
   ]
  },
  {
   "cell_type": "markdown",
   "metadata": {},
   "source": [
    "# Data Wrangling \n",
    "# Usually around 80% of the time of a data driven project!\n",
    "\n",
    "# For example in this project:\n",
    "* **Geocoding**\n",
    "* **Filling the Missing data** \n",
    "* **Finding other necessary data sets (e.g. building locations)**\n",
    "\n",
    "\n",
    "\n",
    "# Finally we get the cleaned data"
   ]
  },
  {
   "cell_type": "code",
   "execution_count": 71,
   "metadata": {},
   "outputs": [
    {
     "name": "stdout",
     "output_type": "stream",
     "text": [
      "(20999, 11)\n"
     ]
    },
    {
     "data": {
      "text/html": [
       "<div>\n",
       "<style scoped>\n",
       "    .dataframe tbody tr th:only-of-type {\n",
       "        vertical-align: middle;\n",
       "    }\n",
       "\n",
       "    .dataframe tbody tr th {\n",
       "        vertical-align: top;\n",
       "    }\n",
       "\n",
       "    .dataframe thead th {\n",
       "        text-align: right;\n",
       "    }\n",
       "</style>\n",
       "<table border=\"1\" class=\"dataframe\">\n",
       "  <thead>\n",
       "    <tr style=\"text-align: right;\">\n",
       "      <th></th>\n",
       "      <th>Rent</th>\n",
       "      <th>ZIP</th>\n",
       "      <th>Type_Apartment</th>\n",
       "      <th>Type_Duplex</th>\n",
       "      <th>Type_Single house</th>\n",
       "      <th>Type_Studio</th>\n",
       "      <th>Rooms</th>\n",
       "      <th>Year built</th>\n",
       "      <th>Living space</th>\n",
       "      <th>lng</th>\n",
       "      <th>lat</th>\n",
       "    </tr>\n",
       "  </thead>\n",
       "  <tbody>\n",
       "    <tr>\n",
       "      <th>0</th>\n",
       "      <td>645.0</td>\n",
       "      <td>5000</td>\n",
       "      <td>1.0</td>\n",
       "      <td>0.0</td>\n",
       "      <td>0.0</td>\n",
       "      <td>0.0</td>\n",
       "      <td>1.0</td>\n",
       "      <td>1954.0</td>\n",
       "      <td>28.0</td>\n",
       "      <td>8.041672</td>\n",
       "      <td>47.397999</td>\n",
       "    </tr>\n",
       "    <tr>\n",
       "      <th>1</th>\n",
       "      <td>1340.0</td>\n",
       "      <td>5000</td>\n",
       "      <td>1.0</td>\n",
       "      <td>0.0</td>\n",
       "      <td>0.0</td>\n",
       "      <td>0.0</td>\n",
       "      <td>4.0</td>\n",
       "      <td>1971.0</td>\n",
       "      <td>88.0</td>\n",
       "      <td>8.057444</td>\n",
       "      <td>47.379288</td>\n",
       "    </tr>\n",
       "    <tr>\n",
       "      <th>2</th>\n",
       "      <td>1380.0</td>\n",
       "      <td>5000</td>\n",
       "      <td>1.0</td>\n",
       "      <td>0.0</td>\n",
       "      <td>0.0</td>\n",
       "      <td>0.0</td>\n",
       "      <td>3.0</td>\n",
       "      <td>1968.0</td>\n",
       "      <td>69.0</td>\n",
       "      <td>8.057165</td>\n",
       "      <td>47.378022</td>\n",
       "    </tr>\n",
       "    <tr>\n",
       "      <th>3</th>\n",
       "      <td>1480.0</td>\n",
       "      <td>5000</td>\n",
       "      <td>1.0</td>\n",
       "      <td>0.0</td>\n",
       "      <td>0.0</td>\n",
       "      <td>0.0</td>\n",
       "      <td>3.5</td>\n",
       "      <td>1976.0</td>\n",
       "      <td>81.0</td>\n",
       "      <td>8.057974</td>\n",
       "      <td>47.400780</td>\n",
       "    </tr>\n",
       "    <tr>\n",
       "      <th>4</th>\n",
       "      <td>1500.0</td>\n",
       "      <td>5000</td>\n",
       "      <td>1.0</td>\n",
       "      <td>0.0</td>\n",
       "      <td>0.0</td>\n",
       "      <td>0.0</td>\n",
       "      <td>4.0</td>\n",
       "      <td>1968.0</td>\n",
       "      <td>80.0</td>\n",
       "      <td>8.057165</td>\n",
       "      <td>47.378022</td>\n",
       "    </tr>\n",
       "  </tbody>\n",
       "</table>\n",
       "</div>"
      ],
      "text/plain": [
       "     Rent   ZIP  Type_Apartment  Type_Duplex  Type_Single house  Type_Studio  \\\n",
       "0   645.0  5000             1.0          0.0                0.0          0.0   \n",
       "1  1340.0  5000             1.0          0.0                0.0          0.0   \n",
       "2  1380.0  5000             1.0          0.0                0.0          0.0   \n",
       "3  1480.0  5000             1.0          0.0                0.0          0.0   \n",
       "4  1500.0  5000             1.0          0.0                0.0          0.0   \n",
       "\n",
       "   Rooms  Year built  Living space       lng        lat  \n",
       "0    1.0      1954.0          28.0  8.041672  47.397999  \n",
       "1    4.0      1971.0          88.0  8.057444  47.379288  \n",
       "2    3.0      1968.0          69.0  8.057165  47.378022  \n",
       "3    3.5      1976.0          81.0  8.057974  47.400780  \n",
       "4    4.0      1968.0          80.0  8.057165  47.378022  "
      ]
     },
     "execution_count": 71,
     "metadata": {},
     "output_type": "execute_result"
    }
   ],
   "source": [
    "path = './Images/rentalprice.csv'\n",
    "Mat_all = pd.read_csv(path)\n",
    "print (Mat_all.shape)\n",
    "Mat_all.head()"
   ]
  },
  {
   "cell_type": "code",
   "execution_count": 78,
   "metadata": {},
   "outputs": [
    {
     "data": {
      "text/plain": [
       "{'feature_count': 20999, 'filename': 'points1.geojson', 'type': 'file'}"
      ]
     },
     "execution_count": 78,
     "metadata": {},
     "output_type": "execute_result"
    }
   ],
   "source": [
    "# Must be a public token, starting with `pk`\n",
    "token = 'pk.eyJ1Ijoic2V2YW1vbyIsImEiOiJjamUzM2ZqdjUyaXM4MzRzNm94ZHJmZTF5In0.dH8Wmm09-Co8yDk3XdRV_A'\n",
    "# Create a geojson file export from the current dataframe\n",
    "\n",
    "keys = list(Mat_all.columns[:-2].values[:])\n",
    "df_to_geojson(Mat_all, filename='points1.geojson',\n",
    "              properties=keys,\n",
    "                     lat='lat', lon='lng', precision=15)"
   ]
  },
  {
   "cell_type": "code",
   "execution_count": 80,
   "metadata": {},
   "outputs": [
    {
     "data": {
      "application/vnd.jupyter.widget-view+json": {
       "model_id": "57811ec4d7174be09fd5e6e01e8f96ac",
       "version_major": 2,
       "version_minor": 0
      },
      "text/html": [
       "<p>Failed to display Jupyter Widget of type <code>Select</code>.</p>\n",
       "<p>\n",
       "  If you're reading this message in Jupyter Notebook or JupyterLab, it may mean\n",
       "  that the widgets JavaScript is still loading. If this message persists, it\n",
       "  likely means that the widgets JavaScript library is either not installed or\n",
       "  not enabled. See the <a href=\"https://ipywidgets.readthedocs.io/en/stable/user_install.html\">Jupyter\n",
       "  Widgets Documentation</a> for setup instructions.\n",
       "</p>\n",
       "<p>\n",
       "  If you're reading this message in another notebook frontend (for example, a static\n",
       "  rendering on GitHub or <a href=\"https://nbviewer.jupyter.org/\">NBViewer</a>),\n",
       "  it may mean that your frontend doesn't currently support widgets.\n",
       "</p>\n"
      ],
      "text/plain": [
       "Select(description=u'Rent', index=8, layout=Layout(align_items=u'stretch', border=u'solid', display=u'flex', flex_flow=u'row', width=u'500px'), options=('Rent', 'ZIP', 'Type_Apartment', 'Type_Duplex', 'Type_Single house', 'Type_Studio', 'Rooms', 'Year built', 'Living space'), value='Living space')"
      ]
     },
     "metadata": {},
     "output_type": "display_data"
    },
    {
     "data": {
      "application/vnd.jupyter.widget-view+json": {
       "model_id": "58b90a0d29da47bd9c9b8f78dd0158db",
       "version_major": 2,
       "version_minor": 0
      },
      "text/html": [
       "<p>Failed to display Jupyter Widget of type <code>Button</code>.</p>\n",
       "<p>\n",
       "  If you're reading this message in Jupyter Notebook or JupyterLab, it may mean\n",
       "  that the widgets JavaScript is still loading. If this message persists, it\n",
       "  likely means that the widgets JavaScript library is either not installed or\n",
       "  not enabled. See the <a href=\"https://ipywidgets.readthedocs.io/en/stable/user_install.html\">Jupyter\n",
       "  Widgets Documentation</a> for setup instructions.\n",
       "</p>\n",
       "<p>\n",
       "  If you're reading this message in another notebook frontend (for example, a static\n",
       "  rendering on GitHub or <a href=\"https://nbviewer.jupyter.org/\">NBViewer</a>),\n",
       "  it may mean that your frontend doesn't currently support widgets.\n",
       "</p>\n"
      ],
      "text/plain": [
       "Button(button_style=u'success', description=u'Show map', style=ButtonStyle(), tooltip=u'Click me')"
      ]
     },
     "metadata": {},
     "output_type": "display_data"
    },
    {
     "data": {
      "text/html": [
       "\n",
       "        <iframe\n",
       "            width=\"100%\"\n",
       "            height=\"600\"\n",
       "            src=\"viz_dynamic.html\"\n",
       "            frameborder=\"0\"\n",
       "            allowfullscreen\n",
       "        ></iframe>\n",
       "        "
      ],
      "text/plain": [
       "<IPython.lib.display.IFrame at 0x1174ac450>"
      ]
     },
     "metadata": {},
     "output_type": "display_data"
    }
   ],
   "source": [
    "%config InlineBackend.close_figures=False \n",
    "from IPython.display import IFrame\n",
    "options = keys\n",
    "selector_Mmap=widgets.Select(\n",
    "    options=options,\n",
    "    value=options[0],\n",
    "    # rows=10,\n",
    "    description='Rent',\n",
    "    disabled=False,\n",
    "    layout=Layout(width = '500px',\n",
    "                  fontsize='3.5em',\n",
    "                  display='flex',\n",
    "                    flex_flow='row', \n",
    "                    align_items='stretch',\n",
    "                  border='solid'\n",
    "                 ),\n",
    "#     rows = len(options)\n",
    ")\n",
    "\n",
    "\n",
    "\n",
    "display.display(selector_Mmap)\n",
    "\n",
    "button = widgets.Button(\n",
    "    description='Show map',\n",
    "    disabled=False,\n",
    "    button_style='success', # 'success', 'info', 'warning', 'danger' or ''\n",
    "    tooltip='Click me',\n",
    "    icon=''\n",
    "\n",
    ")\n",
    "display.display(button)\n",
    "\n",
    "frame = IFrame(\"viz_dynamic.html\",width='100%', height=600)\n",
    "def showmap(button):\n",
    "    \n",
    "    # Generate data breaks and color stops from colorBrewer\n",
    "    color_breaks = mapclassify.Natural_Breaks(Mat_all[selector_Mmap.value], k=8, initial=10).bins\n",
    "    color_stops = create_color_stops(color_breaks, colors='YlOrRd')\n",
    "    # Create the viz from the dataframe\n",
    "    \n",
    "    \n",
    "    \n",
    "    viz_dynamic = CircleViz('points1.geojson',\n",
    "                access_token=token, \n",
    "                height='600px',\n",
    "                label_property=selector_Mmap.value,\n",
    "                color_property = selector_Mmap.value,\n",
    "                color_stops = color_stops,\n",
    "                center = (8.541694,46.8),\n",
    "                zoom = 7,\n",
    "                below_layer = 'waterway-label',)\n",
    "\n",
    "\n",
    "    viz_dynamic.label_property = \"test1\"\n",
    "    viz_dynamic.style_url='mapbox://styles/mapbox/streets-v9?optimize=true'\n",
    "    with open('viz_dynamic.html', 'w') as f:\n",
    "        f.write(viz_dynamic.create_html())\n",
    "    display.clear_output(wait=True)\n",
    "    display.display(selector_Mmap)\n",
    "    display.display(button)\n",
    "    display.display(frame,display_id='tt')\n",
    "\n",
    "    \n",
    "button.on_click(showmap)"
   ]
  },
  {
   "cell_type": "markdown",
   "metadata": {},
   "source": [
    "# Training an automated rental price estimator\n",
    "\n",
    "### In the current market: We have local knowledge about prices\n",
    "### There is no free service for this task in Switzerland\n",
    "\n",
    "# But this seemed to be an easy task for Ensemble methods"
   ]
  },
  {
   "cell_type": "code",
   "execution_count": 83,
   "metadata": {},
   "outputs": [
    {
     "name": "stdout",
     "output_type": "stream",
     "text": [
      "(20999, 11)\n"
     ]
    },
    {
     "data": {
      "text/html": [
       "<div>\n",
       "<style scoped>\n",
       "    .dataframe tbody tr th:only-of-type {\n",
       "        vertical-align: middle;\n",
       "    }\n",
       "\n",
       "    .dataframe tbody tr th {\n",
       "        vertical-align: top;\n",
       "    }\n",
       "\n",
       "    .dataframe thead th {\n",
       "        text-align: right;\n",
       "    }\n",
       "</style>\n",
       "<table border=\"1\" class=\"dataframe\">\n",
       "  <thead>\n",
       "    <tr style=\"text-align: right;\">\n",
       "      <th></th>\n",
       "      <th>Rent</th>\n",
       "      <th>ZIP</th>\n",
       "      <th>Type_Apartment</th>\n",
       "      <th>Type_Duplex</th>\n",
       "      <th>Type_Single house</th>\n",
       "      <th>Type_Studio</th>\n",
       "      <th>Rooms</th>\n",
       "      <th>Year built</th>\n",
       "      <th>Living space</th>\n",
       "      <th>lng</th>\n",
       "      <th>lat</th>\n",
       "    </tr>\n",
       "  </thead>\n",
       "  <tbody>\n",
       "    <tr>\n",
       "      <th>0</th>\n",
       "      <td>645.0</td>\n",
       "      <td>5000</td>\n",
       "      <td>1.0</td>\n",
       "      <td>0.0</td>\n",
       "      <td>0.0</td>\n",
       "      <td>0.0</td>\n",
       "      <td>1.0</td>\n",
       "      <td>1954.0</td>\n",
       "      <td>28.0</td>\n",
       "      <td>8.041672</td>\n",
       "      <td>47.397999</td>\n",
       "    </tr>\n",
       "    <tr>\n",
       "      <th>1</th>\n",
       "      <td>1340.0</td>\n",
       "      <td>5000</td>\n",
       "      <td>1.0</td>\n",
       "      <td>0.0</td>\n",
       "      <td>0.0</td>\n",
       "      <td>0.0</td>\n",
       "      <td>4.0</td>\n",
       "      <td>1971.0</td>\n",
       "      <td>88.0</td>\n",
       "      <td>8.057444</td>\n",
       "      <td>47.379288</td>\n",
       "    </tr>\n",
       "    <tr>\n",
       "      <th>2</th>\n",
       "      <td>1380.0</td>\n",
       "      <td>5000</td>\n",
       "      <td>1.0</td>\n",
       "      <td>0.0</td>\n",
       "      <td>0.0</td>\n",
       "      <td>0.0</td>\n",
       "      <td>3.0</td>\n",
       "      <td>1968.0</td>\n",
       "      <td>69.0</td>\n",
       "      <td>8.057165</td>\n",
       "      <td>47.378022</td>\n",
       "    </tr>\n",
       "    <tr>\n",
       "      <th>3</th>\n",
       "      <td>1480.0</td>\n",
       "      <td>5000</td>\n",
       "      <td>1.0</td>\n",
       "      <td>0.0</td>\n",
       "      <td>0.0</td>\n",
       "      <td>0.0</td>\n",
       "      <td>3.5</td>\n",
       "      <td>1976.0</td>\n",
       "      <td>81.0</td>\n",
       "      <td>8.057974</td>\n",
       "      <td>47.400780</td>\n",
       "    </tr>\n",
       "    <tr>\n",
       "      <th>4</th>\n",
       "      <td>1500.0</td>\n",
       "      <td>5000</td>\n",
       "      <td>1.0</td>\n",
       "      <td>0.0</td>\n",
       "      <td>0.0</td>\n",
       "      <td>0.0</td>\n",
       "      <td>4.0</td>\n",
       "      <td>1968.0</td>\n",
       "      <td>80.0</td>\n",
       "      <td>8.057165</td>\n",
       "      <td>47.378022</td>\n",
       "    </tr>\n",
       "  </tbody>\n",
       "</table>\n",
       "</div>"
      ],
      "text/plain": [
       "     Rent   ZIP  Type_Apartment  Type_Duplex  Type_Single house  Type_Studio  \\\n",
       "0   645.0  5000             1.0          0.0                0.0          0.0   \n",
       "1  1340.0  5000             1.0          0.0                0.0          0.0   \n",
       "2  1380.0  5000             1.0          0.0                0.0          0.0   \n",
       "3  1480.0  5000             1.0          0.0                0.0          0.0   \n",
       "4  1500.0  5000             1.0          0.0                0.0          0.0   \n",
       "\n",
       "   Rooms  Year built  Living space       lng        lat  \n",
       "0    1.0      1954.0          28.0  8.041672  47.397999  \n",
       "1    4.0      1971.0          88.0  8.057444  47.379288  \n",
       "2    3.0      1968.0          69.0  8.057165  47.378022  \n",
       "3    3.5      1976.0          81.0  8.057974  47.400780  \n",
       "4    4.0      1968.0          80.0  8.057165  47.378022  "
      ]
     },
     "execution_count": 83,
     "metadata": {},
     "output_type": "execute_result"
    }
   ],
   "source": [
    "path = './Images/rentalprice.csv'\n",
    "Mat_all = pd.read_csv(path)\n",
    "print (Mat_all.shape)\n",
    "Mat_all.head()"
   ]
  },
  {
   "cell_type": "markdown",
   "metadata": {},
   "source": [
    "# Out of sample predictions"
   ]
  },
  {
   "cell_type": "code",
   "execution_count": 84,
   "metadata": {},
   "outputs": [
    {
     "name": "stdout",
     "output_type": "stream",
     "text": [
      "Median Accuracy for DecisionTreeRegressor 91.1 %\n",
      "Median Accuracy for BaggingRegressor 92.7 %\n",
      "Median Accuracy for RandomForestRegressor 92.7 %\n",
      "Median Accuracy for ExtraTreesRegressor 92.7 %\n",
      "Median Accuracy for XGBoost 93.4 %\n",
      "Median Accuracy for Polynomial_degree:2 with dimensions: 66  86.5 %\n",
      "Median Accuracy for Polynomial_degree:3 with dimensions: 286  87.6 %\n",
      "Median Accuracy for Polynomial_degree:4 with dimensions: 1001  88.5 %\n"
     ]
    }
   ],
   "source": [
    "sel_cols = range(1,Mat_all.shape[1])\n",
    "X = Mat_all.values[:,sel_cols]\n",
    "y = Mat_all.values[:,0]\n",
    "\n",
    "import xgboost as xgb\n",
    "from sklearn.model_selection import train_test_split\n",
    "X_train, X_test, y_train, y_test = train_test_split(X, y, test_size=0.30)\n",
    "\n",
    "\n",
    "# Different types of regressors\n",
    "from sklearn.ensemble import RandomForestRegressor\n",
    "from sklearn.ensemble import ExtraTreesRegressor\n",
    "from sklearn.tree import DecisionTreeRegressor\n",
    "from sklearn.ensemble import BaggingRegressor\n",
    "from sklearn.preprocessing import PolynomialFeatures\n",
    "from sklearn import linear_model\n",
    "\n",
    "def my_custom_loss_func(ground_truth, predictions):\n",
    "    return np.around(np.median(100*np.abs(predictions-ground_truth)/ground_truth),decimals=1)\n",
    "\n",
    "\n",
    "n_estimators = 300\n",
    "regr = DecisionTreeRegressor()\n",
    "regr.fit(X_train,y_train)\n",
    "preds = regr.predict(X_test)\n",
    "print 'Median Accuracy for DecisionTreeRegressor',100-my_custom_loss_func(y_test,preds),'%'\n",
    "\n",
    "\n",
    "regr = BaggingRegressor(DecisionTreeRegressor(), n_estimators=n_estimators,n_jobs=-1)\n",
    "regr.fit(X_train,y_train)\n",
    "preds = regr.predict(X_test)\n",
    "print 'Median Accuracy for BaggingRegressor', 100-my_custom_loss_func(y_test,preds),'%'\n",
    "\n",
    "\n",
    "regr = RandomForestRegressor(n_estimators=n_estimators, max_depth=None,min_samples_split=2, random_state=0,n_jobs=-1)\n",
    "regr.fit(X_train,y_train)\n",
    "preds = regr.predict(X_test)\n",
    "print 'Median Accuracy for RandomForestRegressor', 100-my_custom_loss_func(y_test,preds),'%'\n",
    "\n",
    "regr = ExtraTreesRegressor(n_estimators=n_estimators, max_depth=None,min_samples_split=2, random_state=0,n_jobs=-1)\n",
    "regr.fit(X_train,y_train)\n",
    "preds = regr.predict(X_test)\n",
    "print 'Median Accuracy for ExtraTreesRegressor', 100-my_custom_loss_func(y_test,preds),'%'\n",
    "\n",
    "\n",
    "n_estimators = 2000\n",
    "regr = xgb.XGBRegressor(max_depth=X_train.shape[1], learning_rate=0.1, n_estimators=n_estimators, silent=True, objective='reg:linear', nthread=-1, gamma=0, min_child_weight=1, max_delta_step=0, subsample=1, colsample_bytree=1, colsample_bylevel=1, reg_alpha=0, reg_lambda=1, scale_pos_weight=1, base_score=0.5, seed=0, missing=None)\n",
    "regr.fit(X_train,y_train,)\n",
    "preds = regr.predict(X_test)\n",
    "print 'Median Accuracy for XGBoost', 100-my_custom_loss_func(y_test,preds),'%'\n",
    "\n",
    "\n",
    "degree = 2\n",
    "poly = PolynomialFeatures(degree=degree)\n",
    "X_train_ = poly.fit_transform(X_train)\n",
    "regr = linear_model.LinearRegression()\n",
    "regr.fit(X_train_, y_train)\n",
    "\n",
    "X_test_ = poly.fit_transform(X_test)\n",
    "preds = regr.predict(X_test_)\n",
    "print 'Median Accuracy for Polynomial_degree:{} with dimensions: {} '.format(degree,X_train_.shape[1]), 100-my_custom_loss_func(y_test,preds),'%'\n",
    "\n",
    "\n",
    "degree = 3\n",
    "poly = PolynomialFeatures(degree=degree)\n",
    "X_train_ = poly.fit_transform(X_train)\n",
    "regr = linear_model.LinearRegression()\n",
    "regr.fit(X_train_, y_train)\n",
    "\n",
    "X_test_ = poly.fit_transform(X_test)\n",
    "preds = regr.predict(X_test_)\n",
    "print 'Median Accuracy for Polynomial_degree:{} with dimensions: {} '.format(degree,X_train_.shape[1]), 100-my_custom_loss_func(y_test,preds),'%'\n",
    "\n",
    "degree = 4\n",
    "poly = PolynomialFeatures(degree=degree)\n",
    "X_train_ = poly.fit_transform(X_train)\n",
    "regr = linear_model.LinearRegression()\n",
    "regr.fit(X_train_, y_train)\n",
    "\n",
    "X_test_ = poly.fit_transform(X_test)\n",
    "preds = regr.predict(X_test_)\n",
    "print 'Median Accuracy for Polynomial_degree:{} with dimensions: {} '.format(degree,X_train_.shape[1]), 100-my_custom_loss_func(y_test,preds),'%'\n"
   ]
  },
  {
   "cell_type": "markdown",
   "metadata": {},
   "source": [
    "## This method of out of sample prediction is data demanding \n",
    "## Further, it might be overfitted to test data\n",
    "#### There is a better way than this..."
   ]
  },
  {
   "cell_type": "markdown",
   "metadata": {},
   "source": [
    "# Cross Validation\n",
    "## K-fold \n",
    "\n",
    "#### (Many thanks to Scikit-Learn people)"
   ]
  },
  {
   "cell_type": "code",
   "execution_count": 91,
   "metadata": {},
   "outputs": [
    {
     "name": "stdout",
     "output_type": "stream",
     "text": [
      "DecisionTreeRegressor 90.7\n",
      "BaggingRegressor 92.4\n",
      "RandomForestRegressor 92.5\n",
      "ExtraTreesRegressor 92.1\n",
      "XGBoost 92.9\n"
     ]
    }
   ],
   "source": [
    "from sklearn.model_selection import cross_val_score\n",
    "from sklearn.ensemble import RandomForestRegressor\n",
    "from sklearn.ensemble import ExtraTreesRegressor\n",
    "from sklearn.tree import DecisionTreeRegressor\n",
    "from sklearn.ensemble import BaggingRegressor\n",
    "\n",
    "\n",
    "\n",
    "from sklearn.metrics import make_scorer\n",
    "def my_custom_loss_func(ground_truth, predictions):\n",
    "    return np.around(100-np.median(100*np.abs(predictions-ground_truth)/ground_truth),decimals=1)\n",
    "\n",
    "\n",
    "# def my_custom_loss_func(ground_truth, predictions):\n",
    "#     return np.median(-100*np.abs(predictions-ground_truth)/ground_truth)\n",
    "\n",
    "loss = make_scorer(my_custom_loss_func, greater_is_better=True)\n",
    "\n",
    "# loss = 'neg_median_absolute_error'\n",
    "# loss = None\n",
    "\n",
    "\n",
    "sel_cols = range(1,Mat_all.shape[1])\n",
    "X = Mat_all.values[:,sel_cols]\n",
    "y = Mat_all.values[:,0]\n",
    "\n",
    "n_estimators = 100\n",
    "\n",
    "regr = DecisionTreeRegressor()\n",
    "scores = cross_val_score(regr, X, y,cv=3,scoring=loss)\n",
    "print 'DecisionTreeRegressor',  np.median(scores)                             \n",
    "\n",
    "regr = BaggingRegressor(DecisionTreeRegressor(), n_estimators=n_estimators,n_jobs=-1)\n",
    "scores = cross_val_score(regr, X, y,cv=3,scoring=loss)\n",
    "print 'BaggingRegressor', np.median(scores)  \n",
    "\n",
    "regr = RandomForestRegressor(n_estimators=n_estimators, max_depth=None,min_samples_split=2, random_state=0,n_jobs=-1)\n",
    "scores = cross_val_score(regr, X, y,cv=3,scoring=loss)\n",
    "print 'RandomForestRegressor', np.median(scores)                               \n",
    "\n",
    "regr = ExtraTreesRegressor(n_estimators=n_estimators, max_depth=None,min_samples_split=2, random_state=0,n_jobs=-1)\n",
    "scores = cross_val_score(regr, X, y,cv=3,scoring=loss)\n",
    "print 'ExtraTreesRegressor', np.median(scores)  \n",
    "\n",
    "n_estimators = 200\n",
    "regr = xgb.XGBRegressor(max_depth=X_train.shape[1], learning_rate=0.1, n_estimators=n_estimators, silent=True, objective='reg:linear', nthread=-1, gamma=0, min_child_weight=1, max_delta_step=0, subsample=1, colsample_bytree=1, colsample_bylevel=1, reg_alpha=0, reg_lambda=1, scale_pos_weight=1, base_score=0.5, seed=0, missing=None)\n",
    "scores = cross_val_score(regr, X, y,cv=3,scoring=loss)\n",
    "print 'XGBoost', np.median(scores) \n",
    "\n",
    "# regr.fit(X_train,y_train,)\n",
    "# preds = regr.predict(X_test)\n",
    "# print 'Median Accuracy for XGBoost', 100-my_custom_loss_func(y_test,preds),'%'\n"
   ]
  },
  {
   "attachments": {},
   "cell_type": "markdown",
   "metadata": {},
   "source": [
    "<hr style=\"height:6px;border:none;color:stillblue;background-color:red;\" />\n",
    "\n",
    "\n",
    "# Voluntary task: Test the neural network model from the last session for this data set and compare its results with what we get from these ensembles\n",
    "\n",
    "<hr style=\"height:6px;border:none;color:stillblue;background-color:red;\" />\n"
   ]
  },
  {
   "cell_type": "markdown",
   "metadata": {},
   "source": [
    "<br>\n",
    "<br>\n",
    "# Toward a real world application\n",
    "\n",
    "## Deploying the trained model on a web application\n",
    "\n",
    "* **We need to serve the trained model like an API.** "
   ]
  },
  {
   "cell_type": "code",
   "execution_count": null,
   "metadata": {},
   "outputs": [],
   "source": [
    "# from sklearn.externals import joblib\n",
    "\n",
    "# # Dump the trained model\n",
    "# joblib.dump(regr, 'model.pkl')\n",
    "\n",
    "# # Load it like this on the server\n",
    "# regr = joblib.load('model.pkl')"
   ]
  },
  {
   "cell_type": "markdown",
   "metadata": {},
   "source": [
    "* **To do so, we need a \"Web Framework\"** \n",
    "    * <a href=http://flask.pocoo.org/> Flask is a nice, minimal and easy one!</a>\n",
    "* **Further, we need a host and server which works with Flask.**\n",
    "    * <a href=https://www.pythonanywhere.com/> https://www.pythonanywhere.com/</a>"
   ]
  },
  {
   "cell_type": "markdown",
   "metadata": {},
   "source": [
    "# Live demo\n",
    "[![](images/RealEstate.png)](http://www.keylead.ch)"
   ]
  }
 ],
 "metadata": {
  "anaconda-cloud": {},
  "kernelspec": {
   "display_name": "Python [default]",
   "language": "python",
   "name": "python2"
  },
  "language_info": {
   "codemirror_mode": {
    "name": "ipython",
    "version": 2
   },
   "file_extension": ".py",
   "mimetype": "text/x-python",
   "name": "python",
   "nbconvert_exporter": "python",
   "pygments_lexer": "ipython2",
   "version": "2.7.13"
  }
 },
 "nbformat": 4,
 "nbformat_minor": 1
}
