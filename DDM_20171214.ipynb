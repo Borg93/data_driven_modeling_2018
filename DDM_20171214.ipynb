{
 "cells": [
  {
   "cell_type": "markdown",
   "metadata": {},
   "source": [
    "\n",
    "\n",
    "# Data Driven Modeling\n",
    "\n",
    "\n",
    "<hr style=\"height:3px;border:none;color:stillblue;background-color:black;\" />\n",
    "\n",
    "\n",
    "[Vahid Moosavi](https://vahidmoosavi.com/)\n",
    "<hr style=\"height:1px;border:none;color:stillblue;background-color:black;\" />"
   ]
  },
  {
   "cell_type": "markdown",
   "metadata": {},
   "source": [
    "<a></a>\n",
    "\n",
    "<hr style=\"height:1px;border:none;color:stillblue;background-color:steelblue;\" />\n",
    "<hr style=\"height:1px;border:none;color:stillblue;background-color:black;\" />\n",
    "\n",
    "<span style=\"color:steelblue;font-size: 1em;\"> 13 December 2017</span>"
   ]
  },
  {
   "cell_type": "code",
   "execution_count": 2,
   "metadata": {},
   "outputs": [],
   "source": [
    "import warnings\n",
    "warnings.filterwarnings(\"ignore\")\n",
    "import pandas as pd\n",
    "import numpy as np\n",
    "from matplotlib import pyplot as plt\n",
    "pd.__version__\n",
    "import sys\n",
    "%matplotlib inline"
   ]
  },
  {
   "cell_type": "markdown",
   "metadata": {},
   "source": [
    "# Theory driven VS. data driven modeling?"
   ]
  },
  {
   "cell_type": "markdown",
   "metadata": {},
   "source": [
    "![](Images/Theory_Data_Modeling.png)"
   ]
  },
  {
   "cell_type": "markdown",
   "metadata": {},
   "source": [
    "<hr style=\"height:5px;border:none;color:stillblue;background-color:steelblue;\" />\n",
    "<a></a>\n",
    "\n",
    "<hr style=\"height:5px;border:none;color:stillblue;background-color:steelblue;\" />\n",
    "\n",
    "# What are the elements of data driven modeling?\n",
    "![](Images/DataDrivenModelingKW.png)\n",
    "<hr style=\"height:5px;border:none;color:stillblue;background-color:steelblue;\" />"
   ]
  },
  {
   "cell_type": "markdown",
   "metadata": {},
   "source": [
    "<a></a>\n",
    "<a></a>\n",
    "\n",
    "# What is the main shift?\n",
    "\n",
    "\n",
    "# Rational Representation   VS.    Encapsulation\n",
    "# One descriptive model   VS. probablistic combination of many  models\n",
    "# One section VS. many glued sections\n",
    "\n",
    "![](Images/SOMdot.png)"
   ]
  },
  {
   "cell_type": "markdown",
   "metadata": {},
   "source": [
    "<hr style=\"height:5px;border:none;color:stillblue;background-color:steelblue;\" />\n",
    "<a></a>\n",
    "\n",
    "<hr style=\"height:5px;border:none;color:stillblue;background-color:steelblue;\" />\n",
    "\n",
    "<hr style=\"height:5px;border:none;color:stillblue;background-color:steelblue;\" />\n",
    "\n",
    "# When we use DDM?\n",
    "\n",
    "\n",
    "<hr style=\"height:5px;border:none;color:stillblue;background-color:steelblue;\" />\t\n",
    "# 1-Computational complexity or intractability in theory driven models\n",
    "### such as Cpmputational Fluid Dynamics (CFD)\n",
    "### Classicaly also called surrogate modeling or metamodeling or learning physics\n",
    "### Case 1: Urban Flood risk estimation: Water flow \"emulation\" to speed up slow physics based simulations\n",
    "### Also should be possible for any types of fluid dynamics\n",
    "<hr style=\"height:5px;border:none;color:stillblue;background-color:steelblue;\" />\n",
    "\n",
    "# 2- Highdimensional nonlinearity and interdependecies between variables\n",
    "### Such as the interplay of form and forces\n",
    "### Other fields: Teleconnections in atmospheric science\n",
    "\n",
    "<hr style=\"height:5px;border:none;color:stillblue;background-color:steelblue;\" />\n",
    "\n",
    "# 3- Limits of representation or integration in multifaceted systems\n",
    "### A lot of failure cases in 1960s with the so called \"social physics\"\n",
    "### City traffic + air pollution + heat + … + human behavior \n",
    "\n",
    "### Case 1: Urban traffic simulation\n",
    "### Case 1: Urban air pollution case\n",
    "<hr style=\"height:5px;border:none;color:stillblue;background-color:steelblue;\" />\n",
    "\t\n",
    "# 4- A lot of  unique socio-economic phenomena with no theory at all\n",
    "### Health and place\n",
    "### Global patterns of urbanism (urban science)\n",
    "### Real estate market and urban economy\n",
    "\n",
    "\n",
    "\n",
    "<hr style=\"height:5px;border:none;color:stillblue;background-color:steelblue;\" />\n",
    "\n",
    "\n",
    "\t "
   ]
  },
  {
   "cell_type": "markdown",
   "metadata": {},
   "source": [
    "# Formats of my research\n",
    "## Teaching and writing on data driven modeling across engineering domains\n",
    "## Academic Collaborations \n",
    "## Business applications and start ups"
   ]
  },
  {
   "cell_type": "markdown",
   "metadata": {},
   "source": [
    "# Thanks! "
   ]
  }
 ],
 "metadata": {
  "anaconda-cloud": {},
  "kernelspec": {
   "display_name": "Python [default]",
   "language": "python",
   "name": "python2"
  },
  "language_info": {
   "codemirror_mode": {
    "name": "ipython",
    "version": 2
   },
   "file_extension": ".py",
   "mimetype": "text/x-python",
   "name": "python",
   "nbconvert_exporter": "python",
   "pygments_lexer": "ipython2",
   "version": "2.7.13"
  }
 },
 "nbformat": 4,
 "nbformat_minor": 1
}
